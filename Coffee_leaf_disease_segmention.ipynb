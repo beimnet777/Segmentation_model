{
  "cells": [
    {
      "cell_type": "markdown",
      "metadata": {
        "id": "view-in-github",
        "colab_type": "text"
      },
      "source": [
        "<a href=\"https://colab.research.google.com/github/beimnet777/Segmentation_model/blob/main/Coffee_leaf_disease_segmention.ipynb\" target=\"_parent\"><img src=\"https://colab.research.google.com/assets/colab-badge.svg\" alt=\"Open In Colab\"/></a>"
      ]
    },
    {
      "cell_type": "code",
      "execution_count": null,
      "metadata": {
        "id": "A1MCL-ARooBn"
      },
      "outputs": [],
      "source": [
        "import tensorflow as tf\n",
        "import numpy as np\n",
        "import cv2\n",
        "import os"
      ]
    },
    {
      "cell_type": "code",
      "execution_count": null,
      "metadata": {
        "id": "tJFvsfQmL9Be"
      },
      "outputs": [],
      "source": [
        "from google.colab.patches import cv2_imshow"
      ]
    },
    {
      "cell_type": "code",
      "execution_count": null,
      "metadata": {
        "colab": {
          "base_uri": "https://localhost:8080/"
        },
        "id": "u-fSbduZWJJH",
        "outputId": "4d24862f-ede5-4f6d-f5d8-69fc8fc70b32"
      },
      "outputs": [
        {
          "output_type": "stream",
          "name": "stdout",
          "text": [
            "Drive already mounted at /content/drive; to attempt to forcibly remount, call drive.mount(\"/content/drive\", force_remount=True).\n"
          ]
        }
      ],
      "source": [
        "from google.colab import drive\n",
        "drive.mount('/content/drive')"
      ]
    },
    {
      "cell_type": "code",
      "execution_count": null,
      "metadata": {
        "id": "rsHZaVM1osYn"
      },
      "outputs": [],
      "source": [
        "os.environ[\"SM_FRAMEWORK\"] = \"tf.keras\""
      ]
    },
    {
      "cell_type": "code",
      "execution_count": null,
      "metadata": {
        "id": "4DijyJnZoudT",
        "colab": {
          "base_uri": "https://localhost:8080/"
        },
        "outputId": "ea210718-9166-4c4e-dac1-eb0739093e3b"
      },
      "outputs": [
        {
          "output_type": "stream",
          "name": "stdout",
          "text": [
            "\u001b[?25l     \u001b[90m━━━━━━━━━━━━━━━━━━━━━━━━━━━━━━━━━━━━━━━━\u001b[0m \u001b[32m0.0/50.7 kB\u001b[0m \u001b[31m?\u001b[0m eta \u001b[36m-:--:--\u001b[0m\r\u001b[2K     \u001b[90m━━━━━━━━━━━━━━━━━━━━━━━━━━━━━━━━━━━━━━━━\u001b[0m \u001b[32m50.7/50.7 kB\u001b[0m \u001b[31m2.1 MB/s\u001b[0m eta \u001b[36m0:00:00\u001b[0m\n",
            "\u001b[?25h"
          ]
        }
      ],
      "source": [
        "!pip install -U -q segmentation-models"
      ]
    },
    {
      "cell_type": "code",
      "execution_count": null,
      "metadata": {
        "id": "K7gtMCfMoxlp",
        "colab": {
          "base_uri": "https://localhost:8080/"
        },
        "outputId": "b46c10a5-38df-4c61-858b-511e1d264644"
      },
      "outputs": [
        {
          "output_type": "stream",
          "name": "stdout",
          "text": [
            "Segmentation Models: using `tf.keras` framework.\n"
          ]
        }
      ],
      "source": [
        "import segmentation_models as sm"
      ]
    },
    {
      "cell_type": "code",
      "execution_count": null,
      "metadata": {
        "id": "h5IF7repM2XK"
      },
      "outputs": [],
      "source": [
        "def mask_preparation(image):\n",
        "\n",
        "  lower_red = np.array([0, 0, 128])\n",
        "  upper_red = np.array([0, 0, 255])\n",
        "\n",
        "  # Create a mask for the red color\n",
        "  mask = cv2.inRange(image, lower_red, upper_red)\n",
        "\n",
        "  image[mask != 0] = [255, 255, 255]\n",
        "  image[mask == 0] = [0, 0, 0]\n",
        "\n",
        "  red = image[:,:,2]\n",
        "\n",
        "  return red"
      ]
    },
    {
      "cell_type": "code",
      "execution_count": null,
      "metadata": {
        "id": "ZJj3mN0Ao6KF"
      },
      "outputs": [],
      "source": [
        "def prepare_dataset(mask_path,image_path):\n",
        "  images = []\n",
        "  masks = [] \n",
        "        \n",
        "  for root,dirs,files in os.walk(mask_path):\n",
        "      for file in files:\n",
        "          image_path_=os.path.join(image_path,file.split(\"_\")[0]+\".jpg\")\n",
        "          img = cv2.imread(image_path_)  \n",
        "\n",
        "          img = cv2.resize(img, (512, 256))\n",
        "          img=img.astype(np.float32)\n",
        "          img/=255\n",
        "          images.append(img)\n",
        "\n",
        "          mask_path_=os.path.join(mask_path,file)\n",
        "          mask = cv2.imread(mask_path_)\n",
        "\n",
        "          mask = cv2.resize(mask, (512,256))\n",
        "          # cv2_imshow(mask)\n",
        "          mask=mask_preparation(mask)\n",
        "          # cv2_imshow(mask)\n",
        "          mask=np.expand_dims(mask,axis=-1)\n",
        "          mask//=255\n",
        "          # print(np.max(mask),np.min(mask))\n",
        "          masks.append(mask.astype(np.float32))   \n",
        "  masks = np.array(masks)\n",
        "  images = np.array(images)\n",
        "  return images,masks"
      ]
    },
    {
      "cell_type": "code",
      "execution_count": 10,
      "metadata": {
        "id": "0JaRMzwuPF89"
      },
      "outputs": [],
      "source": [
        "train=prepare_dataset(\"/content/drive/MyDrive/annotations/train\",\"/content/drive/MyDrive/images/train\")"
      ]
    },
    {
      "cell_type": "markdown",
      "source": [],
      "metadata": {
        "id": "vNcj4ePR7PDW"
      }
    },
    {
      "cell_type": "code",
      "execution_count": 9,
      "metadata": {
        "id": "BKTqFCcH0ikI"
      },
      "outputs": [],
      "source": [
        "cv2_imshow(train[1][10]*255)"
      ]
    },
    {
      "cell_type": "code",
      "execution_count": null,
      "metadata": {
        "colab": {
          "base_uri": "https://localhost:8080/"
        },
        "id": "GhmY2Zsnn8Ea",
        "outputId": "3d225b0a-ad52-4b6c-bc99-ab0c28b5ad4e"
      },
      "outputs": [
        {
          "output_type": "execute_result",
          "data": {
            "text/plain": [
              "(400, 256, 512, 1)"
            ]
          },
          "metadata": {},
          "execution_count": 12
        }
      ],
      "source": [
        "train[1].shape"
      ]
    },
    {
      "cell_type": "code",
      "execution_count": null,
      "metadata": {
        "id": "4o0HcnNRpOjw"
      },
      "outputs": [],
      "source": [
        "n_classes=2\n",
        "activation='sigmoid'\n",
        "\n",
        "dice_loss = sm.losses.DiceLoss() \n",
        "focal_loss = sm.losses.CategoricalFocalLoss()\n",
        "total_loss = dice_loss + (1 * focal_loss)\n",
        "\n",
        "metrics = [sm.metrics.IOUScore(threshold=0.5), sm.metrics.FScore(threshold=0.5)]"
      ]
    },
    {
      "cell_type": "code",
      "execution_count": 8,
      "metadata": {
        "id": "x-gkKmcfnpjs"
      },
      "outputs": [],
      "source": [
        "BACKBONE1 = 'resnet34'\n",
        "preprocess_input1 = sm.get_preprocessing(BACKBONE1)\n",
        "X_train = preprocess_input1(train[0])\n",
        "y_train= train[1]\n",
        "\n",
        "model1 = sm.Unet(BACKBONE1, encoder_weights='imagenet', classes=n_classes, activation=activation)\n",
        "\n",
        "model1.compile(optimizer=\"sgd\", loss=total_loss, metrics=metrics)\n",
        "model1.summary()"
      ]
    },
    {
      "cell_type": "code",
      "execution_count": null,
      "metadata": {
        "id": "3xQa6Hm9eLro"
      },
      "outputs": [],
      "source": [
        "def create_sample_weight(y):\n",
        "    sample_weight = np.ones_like(train[1])\n",
        "    sample_weight[train[1] == 1] = 1.2\n",
        "    return sample_weight\n",
        "\n",
        "# create sample weights using tf.numpy_function\n",
        "sample_weight = tf.numpy_function(create_sample_weight, [train[1]], tf.float64)"
      ]
    },
    {
      "cell_type": "code",
      "execution_count": 7,
      "metadata": {
        "id": "mAbvzKgVa6CT"
      },
      "outputs": [],
      "source": [
        "validation=prepare_dataset(\"/content/drive/MyDrive/annotations/val\",\"/content/drive/MyDrive/images/val\")"
      ]
    },
    {
      "cell_type": "code",
      "execution_count": 6,
      "metadata": {
        "id": "Evx32QgFpUNF"
      },
      "outputs": [],
      "source": [
        "history1=model1.fit(X_train, y_train,batch_size=8, epochs=40,validation_data=validation,sample_weight=sample_weight)"
      ]
    },
    {
      "cell_type": "code",
      "execution_count": null,
      "metadata": {
        "id": "bTlhffRkcmNi"
      },
      "outputs": [],
      "source": [
        "model1.save(\"/content/drive/MyDrive/coffee_fist_model_to_tune.h5\")"
      ]
    },
    {
      "cell_type": "code",
      "execution_count": 5,
      "metadata": {
        "id": "j56MHDNjaQkP"
      },
      "outputs": [],
      "source": [
        "test=prepare_dataset(\"/content/drive/MyDrive/annotations/test\",\"/content/drive/MyDrive/images/test\")\n"
      ]
    },
    {
      "cell_type": "code",
      "execution_count": null,
      "metadata": {
        "colab": {
          "base_uri": "https://localhost:8080/"
        },
        "id": "O92yAC1QbE9n",
        "outputId": "eb028178-749d-4739-8196-3d0718e40da5"
      },
      "outputs": [
        {
          "name": "stdout",
          "output_type": "stream",
          "text": [
            "2/2 [==============================] - 12s 4s/step\n"
          ]
        }
      ],
      "source": [
        "prediction=model1.predict(test[0])"
      ]
    },
    {
      "cell_type": "code",
      "execution_count": null,
      "metadata": {
        "id": "6RQVAE8TbPEL"
      },
      "outputs": [],
      "source": [
        "prediction=np.amax(prediction,axis=-1)"
      ]
    },
    {
      "cell_type": "code",
      "execution_count": null,
      "metadata": {
        "id": "kkiR6WtRbbiU"
      },
      "outputs": [],
      "source": [
        "prediction[prediction>=.5]=1\n",
        "prediction[prediction<.5]=0"
      ]
    },
    {
      "cell_type": "code",
      "execution_count": 4,
      "metadata": {
        "id": "nCyzJatdbI0E"
      },
      "outputs": [],
      "source": [
        "for index,val in enumerate(prediction):\n",
        "  cv2_imshow(val*255)\n",
        "  print(\"^^^^^^^^^^^^\")\n",
        "  cv2_imshow(test[1][index]*255)\n",
        "  print(\"*************\")"
      ]
    },
    {
      "cell_type": "code",
      "execution_count": null,
      "metadata": {
        "id": "9hZWPeF622de"
      },
      "outputs": [],
      "source": [
        "def create_unet(width,height):\n",
        "  WIDTH=width\n",
        "  HEIGHT=height\n",
        "\n",
        "  input=tf.keras.layers.Input((HEIGHT,WIDTH,3))\n",
        "  # x=tf.keras.layers.Lambda(lambda y: y/255)(input)\n",
        "  DROP_OUT=0.2\n",
        "\n",
        "  c1=tf.keras.layers.Conv2D(16,3,activation=\"relu\",padding=\"same\")(input)\n",
        "  d1=tf.keras.layers.Dropout(DROP_OUT)(c1)\n",
        "  c2=tf.keras.layers.Conv2D(16,3,activation=\"relu\",padding=\"same\")(d1)\n",
        "  p1=tf.keras.layers.MaxPooling2D((2,2))(c2)\n",
        "\n",
        "  c3=tf.keras.layers.Conv2D(32,3,activation=\"relu\",padding=\"same\")(p1)\n",
        "  d2=tf.keras.layers.Dropout(DROP_OUT)(c3)\n",
        "  c4=tf.keras.layers.Conv2D(32,3,activation=\"relu\",padding=\"same\")(d2)\n",
        "  p2=tf.keras.layers.MaxPooling2D((2,2))(c4)\n",
        "\n",
        "  c5=tf.keras.layers.Conv2D(64,3,activation=\"relu\",padding=\"same\")(p2)\n",
        "  d3=tf.keras.layers.Dropout(DROP_OUT)(c5)\n",
        "  c6=tf.keras.layers.Conv2D(64,3,activation=\"relu\",padding=\"same\")(d3)\n",
        "  p3=tf.keras.layers.MaxPooling2D((2,2))(c6)\n",
        "\n",
        "  c7=tf.keras.layers.Conv2D(128,3,activation=\"relu\",padding=\"same\")(p3)\n",
        "  d4=tf.keras.layers.Dropout(DROP_OUT)(c7)\n",
        "  c8=tf.keras.layers.Conv2D(128,3,activation=\"relu\",padding=\"same\")(d4)\n",
        "  p4=tf.keras.layers.MaxPooling2D((2,2))(c8)\n",
        "\n",
        "  c9=tf.keras.layers.Conv2D(256,3,activation=\"relu\",padding=\"same\")(p4)\n",
        "  d5=tf.keras.layers.Dropout(DROP_OUT)(c9)\n",
        "  c10=tf.keras.layers.Conv2D(256,3,activation=\"relu\",padding=\"same\")(d5)\n",
        "  u5=tf.keras.layers.Conv2DTranspose(128,(2,2),strides=(2,2))(c10)\n",
        "  u5=tf.keras.layers.Concatenate()([u5,c8])\n",
        "\n",
        "\n",
        "\n",
        "  c11=tf.keras.layers.Conv2D(128,3,activation=\"relu\",padding=\"same\")(u5)\n",
        "  d6=tf.keras.layers.Dropout(DROP_OUT)(c11)\n",
        "  c12=tf.keras.layers.Conv2D(128,3,activation=\"relu\",padding=\"same\")(d6)\n",
        "  u6=tf.keras.layers.Conv2DTranspose(64,(2,2),strides=(2,2))(c12)\n",
        "  u6=tf.keras.layers.Concatenate()([u6,c6])\n",
        "\n",
        "  c13=tf.keras.layers.Conv2D(64,3,activation=\"relu\",padding=\"same\")(u6)\n",
        "  d7=tf.keras.layers.Dropout(DROP_OUT)(c13)\n",
        "  c14=tf.keras.layers.Conv2D(64,3,activation=\"relu\",padding=\"same\")(d7)\n",
        "  u7=tf.keras.layers.Conv2DTranspose(32,(2,2),strides=(2,2))(c14)\n",
        "  u7=tf.keras.layers.Concatenate()([u7,c4])\n",
        "\n",
        "  c15=tf.keras.layers.Conv2D(32,3,activation=\"relu\",padding=\"same\")(u7)\n",
        "  d8=tf.keras.layers.Dropout(DROP_OUT)(c15)\n",
        "  c16=tf.keras.layers.Conv2D(32,3,activation=\"relu\",padding=\"same\")(d8)\n",
        "  u8=tf.keras.layers.Conv2DTranspose(16,(2,2),strides=(2,2))(c16)\n",
        "  u8=tf.keras.layers.Concatenate()([u8,c2])\n",
        "\n",
        "  c17=tf.keras.layers.Conv2D(16,3,activation=\"relu\",padding=\"same\")(u8)\n",
        "  d9=tf.keras.layers.Dropout(DROP_OUT)(c17)\n",
        "  c18=tf.keras.layers.Conv2D(16,3,activation=\"relu\",padding=\"same\")(d9)\n",
        "\n",
        "\n",
        "  outputs=tf.keras.layers.Conv1D(1,1,activation=\"sigmoid\")(c18)\n",
        "\n",
        "  model=tf.keras.Model(inputs=[input],outputs=[outputs])\n",
        "  model.summary()\n",
        "  return model"
      ]
    },
    {
      "cell_type": "code",
      "execution_count": 3,
      "metadata": {
        "id": "X-FKG_CI27vv"
      },
      "outputs": [],
      "source": [
        "model=create_unet(512,256)"
      ]
    },
    {
      "cell_type": "code",
      "execution_count": null,
      "metadata": {
        "id": "GytvlTu728c_"
      },
      "outputs": [],
      "source": [
        "model.compile(optimizer=\"sgd\", loss=total_loss, metrics=metrics)"
      ]
    },
    {
      "cell_type": "code",
      "execution_count": 1,
      "metadata": {
        "id": "OKL-Fliq3R1y"
      },
      "outputs": [],
      "source": [
        "history=model.fit(train[0], train[1],batch_size=8, epochs=100,validation_data=validation)"
      ]
    },
    {
      "cell_type": "code",
      "execution_count": null,
      "metadata": {
        "id": "7ds8BO_g9B7B"
      },
      "outputs": [],
      "source": [
        "model.save(\"/content/drive/MyDrive/light_coffee_mode.h5\")"
      ]
    },
    {
      "cell_type": "code",
      "execution_count": null,
      "metadata": {
        "id": "F2THTtu19DvA"
      },
      "outputs": [],
      "source": [
        "prediction=np.amax(prediction,axis=-1)"
      ]
    },
    {
      "cell_type": "code",
      "execution_count": null,
      "metadata": {
        "id": "saPJS0hD9FvK"
      },
      "outputs": [],
      "source": [
        "prediction[prediction>=.5]=1\n",
        "prediction[prediction<.5]=0"
      ]
    },
    {
      "cell_type": "code",
      "execution_count": 2,
      "metadata": {
        "id": "C7PpGvML9HbE"
      },
      "outputs": [],
      "source": [
        "for index,val in enumerate(prediction):\n",
        "  cv2_imshow(val*255)\n",
        "  print(\"^^^^^^^^^^^^\")\n",
        "  cv2_imshow(test[1][index]*255)\n",
        "  print(\"*************\")"
      ]
    }
  ],
  "metadata": {
    "accelerator": "GPU",
    "colab": {
      "provenance": [],
      "mount_file_id": "1f5oCgw27gt5GemzfBYkPJY7In_h19tp_",
      "authorship_tag": "ABX9TyNDlnsqznqZ8yp+vVX6Q8mh",
      "include_colab_link": true
    },
    "gpuClass": "standard",
    "kernelspec": {
      "display_name": "Python 3",
      "name": "python3"
    },
    "language_info": {
      "name": "python"
    }
  },
  "nbformat": 4,
  "nbformat_minor": 0
}